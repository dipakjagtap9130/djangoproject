{
 "cells": [
  {
   "cell_type": "code",
   "execution_count": 2,
   "id": "85b4b5d7",
   "metadata": {},
   "outputs": [],
   "source": [
    "d=10"
   ]
  },
  {
   "cell_type": "code",
   "execution_count": 3,
   "id": "339462f7",
   "metadata": {},
   "outputs": [
    {
     "data": {
      "text/plain": [
       "10"
      ]
     },
     "execution_count": 3,
     "metadata": {},
     "output_type": "execute_result"
    }
   ],
   "source": [
    "d"
   ]
  },
  {
   "cell_type": "code",
   "execution_count": 54,
   "id": "2c417fa1",
   "metadata": {},
   "outputs": [],
   "source": [
    "emp={'name':['madgav','keshav','sonali'],\n",
    "    'id':[101,102,103],\n",
    "    'age':[23,33,44]}"
   ]
  },
  {
   "cell_type": "code",
   "execution_count": 13,
   "id": "10f83cad",
   "metadata": {},
   "outputs": [
    {
     "data": {
      "text/plain": [
       "{'name': ['madgav', 'keshav', 'sonali'],\n",
       " 'id': [101, 102, 103],\n",
       " 'age': [23, 33, 44]}"
      ]
     },
     "execution_count": 13,
     "metadata": {},
     "output_type": "execute_result"
    }
   ],
   "source": [
    "emp"
   ]
  },
  {
   "cell_type": "code",
   "execution_count": 14,
   "id": "67ff4e49",
   "metadata": {},
   "outputs": [],
   "source": [
    "import pandas as pd"
   ]
  },
  {
   "cell_type": "code",
   "execution_count": 15,
   "id": "7c85ce9b",
   "metadata": {},
   "outputs": [
    {
     "data": {
      "text/html": [
       "<div>\n",
       "<style scoped>\n",
       "    .dataframe tbody tr th:only-of-type {\n",
       "        vertical-align: middle;\n",
       "    }\n",
       "\n",
       "    .dataframe tbody tr th {\n",
       "        vertical-align: top;\n",
       "    }\n",
       "\n",
       "    .dataframe thead th {\n",
       "        text-align: right;\n",
       "    }\n",
       "</style>\n",
       "<table border=\"1\" class=\"dataframe\">\n",
       "  <thead>\n",
       "    <tr style=\"text-align: right;\">\n",
       "      <th></th>\n",
       "      <th>name</th>\n",
       "      <th>id</th>\n",
       "      <th>age</th>\n",
       "    </tr>\n",
       "  </thead>\n",
       "  <tbody>\n",
       "    <tr>\n",
       "      <th>0</th>\n",
       "      <td>madgav</td>\n",
       "      <td>101</td>\n",
       "      <td>23</td>\n",
       "    </tr>\n",
       "    <tr>\n",
       "      <th>1</th>\n",
       "      <td>keshav</td>\n",
       "      <td>102</td>\n",
       "      <td>33</td>\n",
       "    </tr>\n",
       "    <tr>\n",
       "      <th>2</th>\n",
       "      <td>sonali</td>\n",
       "      <td>103</td>\n",
       "      <td>44</td>\n",
       "    </tr>\n",
       "  </tbody>\n",
       "</table>\n",
       "</div>"
      ],
      "text/plain": [
       "     name   id  age\n",
       "0  madgav  101   23\n",
       "1  keshav  102   33\n",
       "2  sonali  103   44"
      ]
     },
     "execution_count": 15,
     "metadata": {},
     "output_type": "execute_result"
    }
   ],
   "source": [
    "pd.DataFrame(emp)"
   ]
  },
  {
   "cell_type": "code",
   "execution_count": 16,
   "id": "4cd23840",
   "metadata": {},
   "outputs": [
    {
     "data": {
      "text/plain": [
       "10"
      ]
     },
     "execution_count": 16,
     "metadata": {},
     "output_type": "execute_result"
    }
   ],
   "source": [
    "d"
   ]
  },
  {
   "cell_type": "code",
   "execution_count": 20,
   "id": "4b172f20",
   "metadata": {},
   "outputs": [
    {
     "data": {
      "text/plain": [
       "dict_values([['madgav', 'keshav', 'sonali'], [101, 102, 103], [23, 33, 44]])"
      ]
     },
     "execution_count": 20,
     "metadata": {},
     "output_type": "execute_result"
    }
   ],
   "source": [
    "emp.values()"
   ]
  },
  {
   "cell_type": "code",
   "execution_count": 23,
   "id": "f25ba5c2",
   "metadata": {},
   "outputs": [
    {
     "data": {
      "text/plain": [
       "dict_keys(['name', 'id', 'age'])"
      ]
     },
     "execution_count": 23,
     "metadata": {},
     "output_type": "execute_result"
    }
   ],
   "source": [
    "emp.keys()"
   ]
  },
  {
   "cell_type": "code",
   "execution_count": 24,
   "id": "05c66fd8",
   "metadata": {},
   "outputs": [
    {
     "data": {
      "text/plain": [
       "dict_items([('name', ['madgav', 'keshav', 'sonali']), ('id', [101, 102, 103]), ('age', [23, 33, 44])])"
      ]
     },
     "execution_count": 24,
     "metadata": {},
     "output_type": "execute_result"
    }
   ],
   "source": [
    "emp.items()"
   ]
  },
  {
   "cell_type": "code",
   "execution_count": 25,
   "id": "dacc9590",
   "metadata": {},
   "outputs": [
    {
     "data": {
      "text/plain": [
       "{'name': ['madgav', 'keshav', 'sonali'],\n",
       " 'id': [101, 102, 103],\n",
       " 'age': [23, 33, 44]}"
      ]
     },
     "execution_count": 25,
     "metadata": {},
     "output_type": "execute_result"
    }
   ],
   "source": [
    "emp"
   ]
  },
  {
   "cell_type": "code",
   "execution_count": 27,
   "id": "d5ff8b49",
   "metadata": {},
   "outputs": [
    {
     "data": {
      "text/plain": [
       "('age', [23, 33, 44])"
      ]
     },
     "execution_count": 27,
     "metadata": {},
     "output_type": "execute_result"
    }
   ],
   "source": [
    "emp.popitem()"
   ]
  },
  {
   "cell_type": "code",
   "execution_count": 30,
   "id": "c9490455",
   "metadata": {},
   "outputs": [
    {
     "data": {
      "text/plain": [
       "[101, 102, 103]"
      ]
     },
     "execution_count": 30,
     "metadata": {},
     "output_type": "execute_result"
    }
   ],
   "source": [
    "emp.pop('id')"
   ]
  },
  {
   "cell_type": "code",
   "execution_count": 31,
   "id": "8700e70a",
   "metadata": {
    "scrolled": true
   },
   "outputs": [
    {
     "data": {
      "text/plain": [
       "{'name': ['madgav', 'keshav', 'sonali']}"
      ]
     },
     "execution_count": 31,
     "metadata": {},
     "output_type": "execute_result"
    }
   ],
   "source": [
    "emp"
   ]
  },
  {
   "cell_type": "code",
   "execution_count": 38,
   "id": "5508edef",
   "metadata": {},
   "outputs": [],
   "source": [
    "emp['name'][0]='jkfgkjg'"
   ]
  },
  {
   "cell_type": "code",
   "execution_count": 39,
   "id": "6af79ce8",
   "metadata": {},
   "outputs": [
    {
     "data": {
      "text/plain": [
       "{'name': ['jkfgkjg', 'keshav', 'sonali']}"
      ]
     },
     "execution_count": 39,
     "metadata": {},
     "output_type": "execute_result"
    }
   ],
   "source": [
    "emp."
   ]
  },
  {
   "cell_type": "code",
   "execution_count": 40,
   "id": "4b605af1",
   "metadata": {},
   "outputs": [],
   "source": [
    "a=('name','age','city','aadhar')"
   ]
  },
  {
   "cell_type": "code",
   "execution_count": 43,
   "id": "94ece112",
   "metadata": {},
   "outputs": [],
   "source": [
    "a=dict.fromkeys(a)"
   ]
  },
  {
   "cell_type": "code",
   "execution_count": 44,
   "id": "8cea99fb",
   "metadata": {},
   "outputs": [
    {
     "data": {
      "text/plain": [
       "{'name': None, 'age': None, 'city': None, 'aadhar': None}"
      ]
     },
     "execution_count": 44,
     "metadata": {},
     "output_type": "execute_result"
    }
   ],
   "source": [
    "a[]"
   ]
  },
  {
   "cell_type": "code",
   "execution_count": 45,
   "id": "c61f4152",
   "metadata": {},
   "outputs": [
    {
     "data": {
      "text/plain": [
       "{'name': None, 'age': None, 'city': None, 'aadhar': None}"
      ]
     },
     "execution_count": 45,
     "metadata": {},
     "output_type": "execute_result"
    }
   ],
   "source": [
    "a"
   ]
  },
  {
   "cell_type": "code",
   "execution_count": 48,
   "id": "2558063a",
   "metadata": {},
   "outputs": [],
   "source": [
    "a['name']='dfg'"
   ]
  },
  {
   "cell_type": "code",
   "execution_count": 49,
   "id": "e21f3069",
   "metadata": {},
   "outputs": [
    {
     "data": {
      "text/plain": [
       "{'name': 'dfg', 'age': None, 'city': None, 'aadhar': None}"
      ]
     },
     "execution_count": 49,
     "metadata": {},
     "output_type": "execute_result"
    }
   ],
   "source": [
    "a"
   ]
  },
  {
   "cell_type": "code",
   "execution_count": 50,
   "id": "c67fe059",
   "metadata": {},
   "outputs": [
    {
     "data": {
      "text/plain": [
       "'dfg'"
      ]
     },
     "execution_count": 50,
     "metadata": {},
     "output_type": "execute_result"
    }
   ],
   "source": [
    "a['name']"
   ]
  },
  {
   "cell_type": "code",
   "execution_count": 52,
   "id": "c6d927b9",
   "metadata": {},
   "outputs": [],
   "source": [
    "a.get('namefd')"
   ]
  },
  {
   "cell_type": "code",
   "execution_count": 53,
   "id": "3570cb64",
   "metadata": {},
   "outputs": [
    {
     "data": {
      "text/plain": [
       "{'name': 'dfg', 'age': None, 'city': None, 'aadhar': None}"
      ]
     },
     "execution_count": 53,
     "metadata": {},
     "output_type": "execute_result"
    }
   ],
   "source": [
    "a"
   ]
  },
  {
   "cell_type": "code",
   "execution_count": 55,
   "id": "b87e34e4",
   "metadata": {},
   "outputs": [
    {
     "data": {
      "text/plain": [
       "{'name': ['madgav', 'keshav', 'sonali'],\n",
       " 'id': [101, 102, 103],\n",
       " 'age': [23, 33, 44]}"
      ]
     },
     "execution_count": 55,
     "metadata": {},
     "output_type": "execute_result"
    }
   ],
   "source": [
    "emp"
   ]
  },
  {
   "cell_type": "code",
   "execution_count": 61,
   "id": "78773093",
   "metadata": {},
   "outputs": [],
   "source": [
    "emp['name'][2]=\"RRR\""
   ]
  },
  {
   "cell_type": "code",
   "execution_count": 66,
   "id": "f0f23ca2",
   "metadata": {},
   "outputs": [],
   "source": [
    "emp.get('age')[1]=4554"
   ]
  },
  {
   "cell_type": "code",
   "execution_count": 67,
   "id": "960796c5",
   "metadata": {},
   "outputs": [
    {
     "data": {
      "text/plain": [
       "{'name': ['madgav', 'keshav', 'RRR'],\n",
       " 'id': [101, 102, 103],\n",
       " 'age': [23, 4554, 44]}"
      ]
     },
     "execution_count": 67,
     "metadata": {},
     "output_type": "execute_result"
    }
   ],
   "source": [
    "emp"
   ]
  },
  {
   "cell_type": "code",
   "execution_count": 69,
   "id": "8c65fd2e",
   "metadata": {},
   "outputs": [
    {
     "data": {
      "text/plain": [
       "['madgav', 'keshav', 'RRR']"
      ]
     },
     "execution_count": 69,
     "metadata": {},
     "output_type": "execute_result"
    }
   ],
   "source": [
    "emp.get('name','not available')"
   ]
  },
  {
   "cell_type": "code",
   "execution_count": 77,
   "id": "6e390143",
   "metadata": {},
   "outputs": [],
   "source": [
    "emp['city']=['pune','mumbai','nasik']"
   ]
  },
  {
   "cell_type": "code",
   "execution_count": 81,
   "id": "006844dd",
   "metadata": {},
   "outputs": [
    {
     "data": {
      "text/plain": [
       "(('city', 'add'), ['pune', 'mumbai', 'nasik'])"
      ]
     },
     "execution_count": 81,
     "metadata": {},
     "output_type": "execute_result"
    }
   ],
   "source": [
    "emp.popitem()"
   ]
  },
  {
   "cell_type": "code",
   "execution_count": 82,
   "id": "49557fa4",
   "metadata": {},
   "outputs": [
    {
     "data": {
      "text/plain": [
       "{'name': ['madgav', 'keshav', 'RRR'],\n",
       " 'id': [101, 102, 103],\n",
       " 'age': [23, 4554, 44],\n",
       " 'city': ['pune', 'mumbai', 'nasik']}"
      ]
     },
     "execution_count": 82,
     "metadata": {},
     "output_type": "execute_result"
    }
   ],
   "source": [
    "emp"
   ]
  },
  {
   "cell_type": "code",
   "execution_count": 91,
   "id": "09f54cec",
   "metadata": {},
   "outputs": [],
   "source": [
    "emp['designation123']={'helper','tech','plumber'}"
   ]
  },
  {
   "cell_type": "code",
   "execution_count": 92,
   "id": "4e8a0fb6",
   "metadata": {},
   "outputs": [
    {
     "data": {
      "text/plain": [
       "{'name': ['madgav', 'keshav', 'RRR'],\n",
       " 'id': [101, 102, 103],\n",
       " 'age': [23, 4554, 44],\n",
       " 'city': ['pune', 'mumbai', 'nasik'],\n",
       " 'designation': ('helper', 'tech', 'plumber'),\n",
       " 'designation123': {'helper', 'plumber', 'tech'}}"
      ]
     },
     "execution_count": 92,
     "metadata": {},
     "output_type": "execute_result"
    }
   ],
   "source": [
    "emp"
   ]
  },
  {
   "cell_type": "code",
   "execution_count": 94,
   "id": "83e5f093",
   "metadata": {},
   "outputs": [
    {
     "ename": "TypeError",
     "evalue": "'set' object does not support item assignment",
     "output_type": "error",
     "traceback": [
      "\u001b[1;31m---------------------------------------------------------------------------\u001b[0m",
      "\u001b[1;31mTypeError\u001b[0m                                 Traceback (most recent call last)",
      "\u001b[1;32m~\\AppData\\Local\\Temp\\ipykernel_9444\\2743045768.py\u001b[0m in \u001b[0;36m<module>\u001b[1;34m\u001b[0m\n\u001b[1;32m----> 1\u001b[1;33m \u001b[0memp\u001b[0m\u001b[1;33m[\u001b[0m\u001b[1;34m'designation123'\u001b[0m\u001b[1;33m]\u001b[0m\u001b[1;33m[\u001b[0m\u001b[1;36m1\u001b[0m\u001b[1;33m]\u001b[0m\u001b[1;33m=\u001b[0m\u001b[1;34m'incharge'\u001b[0m\u001b[1;33m\u001b[0m\u001b[1;33m\u001b[0m\u001b[0m\n\u001b[0m",
      "\u001b[1;31mTypeError\u001b[0m: 'set' object does not support item assignment"
     ]
    }
   ],
   "source": [
    "emp['designation123'][1]='incharge'"
   ]
  },
  {
   "cell_type": "code",
   "execution_count": 95,
   "id": "01c8f399",
   "metadata": {},
   "outputs": [],
   "source": [
    "car_details={'color':['red','yellow','white']}"
   ]
  },
  {
   "cell_type": "code",
   "execution_count": 96,
   "id": "18aeb7ab",
   "metadata": {},
   "outputs": [
    {
     "data": {
      "text/plain": [
       "{'color': ['red', 'yellow', 'white']}"
      ]
     },
     "execution_count": 96,
     "metadata": {},
     "output_type": "execute_result"
    }
   ],
   "source": [
    "car_details"
   ]
  },
  {
   "cell_type": "code",
   "execution_count": 97,
   "id": "2bd7f0ac",
   "metadata": {},
   "outputs": [],
   "source": [
    "car_details.update({'name':['Audi','BMW','BENZ'],'price':[1223,3445,5667]})"
   ]
  },
  {
   "cell_type": "code",
   "execution_count": 98,
   "id": "b1cb0c91",
   "metadata": {},
   "outputs": [
    {
     "data": {
      "text/plain": [
       "{'color': ['red', 'yellow', 'white'],\n",
       " 'name': ['Audi', 'BMW', 'BENZ'],\n",
       " 'price': [1223, 3445, 5667]}"
      ]
     },
     "execution_count": 98,
     "metadata": {},
     "output_type": "execute_result"
    }
   ],
   "source": [
    "car_details"
   ]
  },
  {
   "cell_type": "code",
   "execution_count": 100,
   "id": "e7f25f0f",
   "metadata": {},
   "outputs": [
    {
     "data": {
      "text/plain": [
       "['v1', 'v2', 'v3']"
      ]
     },
     "execution_count": 100,
     "metadata": {},
     "output_type": "execute_result"
    }
   ],
   "source": [
    "car_details.setdefault('version',['v1','v2','v3'])"
   ]
  },
  {
   "cell_type": "code",
   "execution_count": 101,
   "id": "f873fd4d",
   "metadata": {},
   "outputs": [
    {
     "data": {
      "text/plain": [
       "{'color': ['red', 'yellow', 'white'],\n",
       " 'name': ['Audi', 'BMW', 'BENZ'],\n",
       " 'price': [1223, 3445, 5667],\n",
       " 'version': ['v1', 'v2', 'v3']}"
      ]
     },
     "execution_count": 101,
     "metadata": {},
     "output_type": "execute_result"
    }
   ],
   "source": [
    "car_details"
   ]
  },
  {
   "cell_type": "code",
   "execution_count": 104,
   "id": "5cc13fec",
   "metadata": {},
   "outputs": [],
   "source": [
    "d=['name','age,''city']"
   ]
  },
  {
   "cell_type": "code",
   "execution_count": 107,
   "id": "c0f1f917",
   "metadata": {},
   "outputs": [],
   "source": [
    "p=dict.fromkeys(d,100)"
   ]
  },
  {
   "cell_type": "code",
   "execution_count": 110,
   "id": "9e2306cf",
   "metadata": {},
   "outputs": [],
   "source": [
    "p['name']='keshav'"
   ]
  },
  {
   "cell_type": "code",
   "execution_count": 111,
   "id": "6badabb1",
   "metadata": {},
   "outputs": [
    {
     "data": {
      "text/plain": [
       "{'name': 'keshav', 'age,city': 100}"
      ]
     },
     "execution_count": 111,
     "metadata": {},
     "output_type": "execute_result"
    }
   ],
   "source": [
    "p"
   ]
  },
  {
   "cell_type": "code",
   "execution_count": 119,
   "id": "f9ab8987",
   "metadata": {},
   "outputs": [
    {
     "name": "stdout",
     "output_type": "stream",
     "text": [
      "5665\n"
     ]
    }
   ],
   "source": [
    "a=int(input())"
   ]
  },
  {
   "cell_type": "code",
   "execution_count": 120,
   "id": "d872949d",
   "metadata": {},
   "outputs": [
    {
     "data": {
      "text/plain": [
       "5665"
      ]
     },
     "execution_count": 120,
     "metadata": {},
     "output_type": "execute_result"
    }
   ],
   "source": [
    "a"
   ]
  },
  {
   "cell_type": "code",
   "execution_count": 123,
   "id": "edb9a6c7",
   "metadata": {},
   "outputs": [],
   "source": [
    "s =\"\"\"duga\n",
    "     hi\n",
    "    kya chal ra\"\"\""
   ]
  },
  {
   "cell_type": "code",
   "execution_count": 124,
   "id": "e8b8a947",
   "metadata": {},
   "outputs": [
    {
     "data": {
      "text/plain": [
       "'duga\\n     hi\\n    kya chal ra'"
      ]
     },
     "execution_count": 124,
     "metadata": {},
     "output_type": "execute_result"
    }
   ],
   "source": [
    "s"
   ]
  },
  {
   "cell_type": "code",
   "execution_count": 125,
   "id": "ea656350",
   "metadata": {},
   "outputs": [],
   "source": [
    "s=\"this is a python string practice:\""
   ]
  },
  {
   "cell_type": "code",
   "execution_count": 126,
   "id": "f04bce94",
   "metadata": {},
   "outputs": [
    {
     "data": {
      "text/plain": [
       "'This is a python string practice:'"
      ]
     },
     "execution_count": 126,
     "metadata": {},
     "output_type": "execute_result"
    }
   ],
   "source": [
    "s.capitalize()"
   ]
  },
  {
   "cell_type": "code",
   "execution_count": 127,
   "id": "c763ee03",
   "metadata": {},
   "outputs": [
    {
     "data": {
      "text/plain": [
       "'This Is A Python String Practice:'"
      ]
     },
     "execution_count": 127,
     "metadata": {},
     "output_type": "execute_result"
    }
   ],
   "source": [
    "s.title()"
   ]
  },
  {
   "cell_type": "code",
   "execution_count": 128,
   "id": "a93b92dd",
   "metadata": {},
   "outputs": [
    {
     "data": {
      "text/plain": [
       "'THIS IS A PYTHON STRING PRACTICE:'"
      ]
     },
     "execution_count": 128,
     "metadata": {},
     "output_type": "execute_result"
    }
   ],
   "source": [
    "s.upper()"
   ]
  },
  {
   "cell_type": "code",
   "execution_count": 129,
   "id": "dd9fb03a",
   "metadata": {},
   "outputs": [
    {
     "data": {
      "text/plain": [
       "'this is a python string practice:'"
      ]
     },
     "execution_count": 129,
     "metadata": {},
     "output_type": "execute_result"
    }
   ],
   "source": [
    "s.lower()"
   ]
  },
  {
   "cell_type": "code",
   "execution_count": 131,
   "id": "c53235ed",
   "metadata": {},
   "outputs": [],
   "source": [
    "s1 =\"ThisISaAtemptTOgetREdemption\""
   ]
  },
  {
   "cell_type": "code",
   "execution_count": 135,
   "id": "2c17c77f",
   "metadata": {},
   "outputs": [
    {
     "data": {
      "text/plain": [
       "'tHISisAaTEMPTtoGETreDEMPTION'"
      ]
     },
     "execution_count": 135,
     "metadata": {},
     "output_type": "execute_result"
    }
   ],
   "source": [
    "s1.swapcase(\n",
    ")"
   ]
  },
  {
   "cell_type": "code",
   "execution_count": 138,
   "id": "5e83190a",
   "metadata": {},
   "outputs": [
    {
     "data": {
      "text/plain": [
       "4"
      ]
     },
     "execution_count": 138,
     "metadata": {},
     "output_type": "execute_result"
    }
   ],
   "source": [
    "s1.count('t')"
   ]
  },
  {
   "cell_type": "code",
   "execution_count": 143,
   "id": "8b918a49",
   "metadata": {},
   "outputs": [
    {
     "ename": "ValueError",
     "evalue": "substring not found",
     "output_type": "error",
     "traceback": [
      "\u001b[1;31m---------------------------------------------------------------------------\u001b[0m",
      "\u001b[1;31mValueError\u001b[0m                                Traceback (most recent call last)",
      "\u001b[1;32m~\\AppData\\Local\\Temp\\ipykernel_9444\\1299545978.py\u001b[0m in \u001b[0;36m<module>\u001b[1;34m\u001b[0m\n\u001b[1;32m----> 1\u001b[1;33m \u001b[0ms1\u001b[0m\u001b[1;33m.\u001b[0m\u001b[0mindex\u001b[0m\u001b[1;33m(\u001b[0m\u001b[1;34m'lkjdfs'\u001b[0m\u001b[1;33m)\u001b[0m\u001b[1;33m\u001b[0m\u001b[1;33m\u001b[0m\u001b[0m\n\u001b[0m",
      "\u001b[1;31mValueError\u001b[0m: substring not found"
     ]
    }
   ],
   "source": [
    "s1.index('lkjdfs')"
   ]
  },
  {
   "cell_type": "code",
   "execution_count": 152,
   "id": "ca7e4450",
   "metadata": {},
   "outputs": [],
   "source": [
    "email=['admin@gmail.com','test@yahoo.com','jkgfd','temp@gmail.com']"
   ]
  },
  {
   "cell_type": "code",
   "execution_count": 153,
   "id": "50d96f4c",
   "metadata": {},
   "outputs": [
    {
     "name": "stdout",
     "output_type": "stream",
     "text": [
      "valid\n",
      "valid\n",
      "Invalid\n",
      "valid\n"
     ]
    }
   ],
   "source": [
    "for i in email:\n",
    "    if i.endswith('.com'):\n",
    "        print(\"valid\")\n",
    "    else:\n",
    "        print(\"Invalid\")"
   ]
  },
  {
   "cell_type": "code",
   "execution_count": 154,
   "id": "f25bce61",
   "metadata": {},
   "outputs": [
    {
     "name": "stdout",
     "output_type": "stream",
     "text": [
      "Invalid\n",
      "valid\n",
      "Invalid\n",
      "valid\n"
     ]
    }
   ],
   "source": [
    "for i in email:\n",
    "    if i.startswith('t'):\n",
    "        print(\"valid\")\n",
    "    else:\n",
    "        print(\"Invalid\")"
   ]
  },
  {
   "cell_type": "code",
   "execution_count": 155,
   "id": "359c63bd",
   "metadata": {},
   "outputs": [
    {
     "data": {
      "text/plain": [
       "['admin@gmail.com', 'test@yahoo.com', 'jkgfd', 'temp@gmail.com']"
      ]
     },
     "execution_count": 155,
     "metadata": {},
     "output_type": "execute_result"
    }
   ],
   "source": [
    "email"
   ]
  },
  {
   "cell_type": "code",
   "execution_count": 157,
   "id": "34edb6f3",
   "metadata": {},
   "outputs": [
    {
     "data": {
      "text/plain": [
       "['admin@gmail.com', 'test@yahoo.com', 'jkgfd', 'temp@gmail.com']"
      ]
     },
     "execution_count": 157,
     "metadata": {},
     "output_type": "execute_result"
    }
   ],
   "source": [
    "email"
   ]
  },
  {
   "cell_type": "code",
   "execution_count": 158,
   "id": "5a5fcaf6",
   "metadata": {},
   "outputs": [],
   "source": [
    "t='admin@gmail.com'"
   ]
  },
  {
   "cell_type": "code",
   "execution_count": 159,
   "id": "d31104f8",
   "metadata": {},
   "outputs": [
    {
     "data": {
      "text/plain": [
       "['admin', 'gmail.com']"
      ]
     },
     "execution_count": 159,
     "metadata": {},
     "output_type": "execute_result"
    }
   ],
   "source": [
    "t.split('@')"
   ]
  },
  {
   "cell_type": "code",
   "execution_count": 165,
   "id": "0f229642",
   "metadata": {},
   "outputs": [
    {
     "ename": "AttributeError",
     "evalue": "'str' object has no attribute 'append'",
     "output_type": "error",
     "traceback": [
      "\u001b[1;31m---------------------------------------------------------------------------\u001b[0m",
      "\u001b[1;31mAttributeError\u001b[0m                            Traceback (most recent call last)",
      "\u001b[1;32m~\\AppData\\Local\\Temp\\ipykernel_9444\\2509485034.py\u001b[0m in \u001b[0;36m<module>\u001b[1;34m\u001b[0m\n\u001b[0;32m      3\u001b[0m     \u001b[1;32mif\u001b[0m \u001b[0mi\u001b[0m\u001b[1;33m.\u001b[0m\u001b[0mendswith\u001b[0m\u001b[1;33m(\u001b[0m\u001b[1;34m'.com'\u001b[0m\u001b[1;33m)\u001b[0m\u001b[1;33m:\u001b[0m\u001b[1;33m\u001b[0m\u001b[1;33m\u001b[0m\u001b[0m\n\u001b[0;32m      4\u001b[0m         \u001b[0mi\u001b[0m\u001b[1;33m.\u001b[0m\u001b[0msplit\u001b[0m\u001b[1;33m(\u001b[0m\u001b[1;34m'@'\u001b[0m\u001b[1;33m)\u001b[0m\u001b[1;33m\u001b[0m\u001b[1;33m\u001b[0m\u001b[0m\n\u001b[1;32m----> 5\u001b[1;33m         \u001b[0mk\u001b[0m\u001b[1;33m=\u001b[0m\u001b[0mi\u001b[0m\u001b[1;33m.\u001b[0m\u001b[0mappend\u001b[0m\u001b[1;33m(\u001b[0m\u001b[0mi\u001b[0m\u001b[1;33m)\u001b[0m\u001b[1;33m\u001b[0m\u001b[1;33m\u001b[0m\u001b[0m\n\u001b[0m\u001b[0;32m      6\u001b[0m \u001b[1;33m\u001b[0m\u001b[0m\n\u001b[0;32m      7\u001b[0m \u001b[1;33m\u001b[0m\u001b[0m\n",
      "\u001b[1;31mAttributeError\u001b[0m: 'str' object has no attribute 'append'"
     ]
    }
   ],
   "source": [
    "k=[]\n",
    "for i in email:\n",
    "    if i.endswith('.com'):\n",
    "        i.split('@')\n",
    "        k=i.append(i)\n",
    "        \n",
    "    "
   ]
  },
  {
   "cell_type": "code",
   "execution_count": 166,
   "id": "58d3da28",
   "metadata": {},
   "outputs": [],
   "source": [
    " a=10"
   ]
  },
  {
   "cell_type": "code",
   "execution_count": 167,
   "id": "199ff73d",
   "metadata": {},
   "outputs": [
    {
     "data": {
      "text/plain": [
       "int"
      ]
     },
     "execution_count": 167,
     "metadata": {},
     "output_type": "execute_result"
    }
   ],
   "source": [
    "type(a)"
   ]
  },
  {
   "cell_type": "code",
   "execution_count": 169,
   "id": "6977e844",
   "metadata": {},
   "outputs": [],
   "source": [
    "a=str(a)"
   ]
  },
  {
   "cell_type": "code",
   "execution_count": 170,
   "id": "67988ae6",
   "metadata": {},
   "outputs": [
    {
     "data": {
      "text/plain": [
       "'10'"
      ]
     },
     "execution_count": 170,
     "metadata": {},
     "output_type": "execute_result"
    }
   ],
   "source": [
    "a"
   ]
  },
  {
   "cell_type": "code",
   "execution_count": 173,
   "id": "ba59415c",
   "metadata": {},
   "outputs": [
    {
     "ename": "TypeError",
     "evalue": "'a' is an invalid keyword argument for str()",
     "output_type": "error",
     "traceback": [
      "\u001b[1;31m---------------------------------------------------------------------------\u001b[0m",
      "\u001b[1;31mTypeError\u001b[0m                                 Traceback (most recent call last)",
      "\u001b[1;32m~\\AppData\\Local\\Temp\\ipykernel_9444\\2499257607.py\u001b[0m in \u001b[0;36m<module>\u001b[1;34m\u001b[0m\n\u001b[1;32m----> 1\u001b[1;33m \u001b[0ma\u001b[0m\u001b[1;33m=\u001b[0m\u001b[0mstr\u001b[0m\u001b[1;33m(\u001b[0m\u001b[0ma\u001b[0m\u001b[1;33m=\u001b[0m\u001b[1;34m'10'\u001b[0m\u001b[1;33m)\u001b[0m\u001b[1;33m\u001b[0m\u001b[1;33m\u001b[0m\u001b[0m\n\u001b[0m",
      "\u001b[1;31mTypeError\u001b[0m: 'a' is an invalid keyword argument for str()"
     ]
    }
   ],
   "source": [
    "a=str(a='10')"
   ]
  },
  {
   "cell_type": "code",
   "execution_count": 174,
   "id": "42749f12",
   "metadata": {},
   "outputs": [
    {
     "data": {
      "text/plain": [
       "'10'"
      ]
     },
     "execution_count": 174,
     "metadata": {},
     "output_type": "execute_result"
    }
   ],
   "source": [
    "a"
   ]
  },
  {
   "cell_type": "code",
   "execution_count": 176,
   "id": "0581e3da",
   "metadata": {},
   "outputs": [],
   "source": [
    "a=int(a)"
   ]
  },
  {
   "cell_type": "code",
   "execution_count": 177,
   "id": "041a0b6a",
   "metadata": {},
   "outputs": [
    {
     "data": {
      "text/plain": [
       "10"
      ]
     },
     "execution_count": 177,
     "metadata": {},
     "output_type": "execute_result"
    }
   ],
   "source": [
    "a"
   ]
  },
  {
   "cell_type": "code",
   "execution_count": 184,
   "id": "5e96d531",
   "metadata": {},
   "outputs": [],
   "source": [
    "p1=[1,3,4]"
   ]
  },
  {
   "cell_type": "code",
   "execution_count": 185,
   "id": "9665b1dd",
   "metadata": {},
   "outputs": [],
   "source": [
    "temp=tuple(p1)"
   ]
  },
  {
   "cell_type": "code",
   "execution_count": 187,
   "id": "5aec6ac6",
   "metadata": {},
   "outputs": [
    {
     "data": {
      "text/plain": [
       "[1, 3, 4]"
      ]
     },
     "execution_count": 187,
     "metadata": {},
     "output_type": "execute_result"
    }
   ],
   "source": [
    "p1\n"
   ]
  },
  {
   "cell_type": "code",
   "execution_count": 188,
   "id": "2eb5a7c7",
   "metadata": {},
   "outputs": [
    {
     "data": {
      "text/plain": [
       "(1, 3, 4)"
      ]
     },
     "execution_count": 188,
     "metadata": {},
     "output_type": "execute_result"
    }
   ],
   "source": [
    "temp"
   ]
  },
  {
   "cell_type": "code",
   "execution_count": null,
   "id": "3c7c3109",
   "metadata": {},
   "outputs": [],
   "source": []
  }
 ],
 "metadata": {
  "kernelspec": {
   "display_name": "Python 3 (ipykernel)",
   "language": "python",
   "name": "python3"
  },
  "language_info": {
   "codemirror_mode": {
    "name": "ipython",
    "version": 3
   },
   "file_extension": ".py",
   "mimetype": "text/x-python",
   "name": "python",
   "nbconvert_exporter": "python",
   "pygments_lexer": "ipython3",
   "version": "3.9.13"
  }
 },
 "nbformat": 4,
 "nbformat_minor": 5
}
