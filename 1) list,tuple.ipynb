{
 "cells": [
  {
   "cell_type": "code",
   "execution_count": 1,
   "id": "75abad17",
   "metadata": {},
   "outputs": [],
   "source": [
    "p=[12,34,45,65]"
   ]
  },
  {
   "cell_type": "code",
   "execution_count": 2,
   "id": "64352f50",
   "metadata": {},
   "outputs": [],
   "source": [
    "p.insert(2,500)"
   ]
  },
  {
   "cell_type": "code",
   "execution_count": 4,
   "id": "eb0ed75d",
   "metadata": {},
   "outputs": [],
   "source": [
    "p.insert(-3,'pyspark')"
   ]
  },
  {
   "cell_type": "code",
   "execution_count": 5,
   "id": "36b7c0ad",
   "metadata": {},
   "outputs": [
    {
     "data": {
      "text/plain": [
       "[12, 34, 'pyspark', 500, 45, 65]"
      ]
     },
     "execution_count": 5,
     "metadata": {},
     "output_type": "execute_result"
    }
   ],
   "source": [
    "p"
   ]
  },
  {
   "cell_type": "code",
   "execution_count": 7,
   "id": "e4c5e287",
   "metadata": {},
   "outputs": [],
   "source": [
    "p.insert(2,3333)"
   ]
  },
  {
   "cell_type": "code",
   "execution_count": 8,
   "id": "2621c12b",
   "metadata": {},
   "outputs": [
    {
     "data": {
      "text/plain": [
       "[12, 34, 3333, 'pyspark', 500, 45, 65]"
      ]
     },
     "execution_count": 8,
     "metadata": {},
     "output_type": "execute_result"
    }
   ],
   "source": [
    "p"
   ]
  },
  {
   "cell_type": "code",
   "execution_count": 9,
   "id": "e1dbc3f0",
   "metadata": {},
   "outputs": [
    {
     "data": {
      "text/plain": [
       "7"
      ]
     },
     "execution_count": 9,
     "metadata": {},
     "output_type": "execute_result"
    }
   ],
   "source": [
    "len(p)"
   ]
  },
  {
   "cell_type": "code",
   "execution_count": 10,
   "id": "f07649ba",
   "metadata": {},
   "outputs": [
    {
     "data": {
      "text/plain": [
       "1555134306624"
      ]
     },
     "execution_count": 10,
     "metadata": {},
     "output_type": "execute_result"
    }
   ],
   "source": [
    "id(p)"
   ]
  },
  {
   "cell_type": "code",
   "execution_count": 11,
   "id": "e109e1bf",
   "metadata": {},
   "outputs": [
    {
     "name": "stdout",
     "output_type": "stream",
     "text": [
      "[12, 34, 3333, 'pyspark', 500, 45, 65]\n"
     ]
    }
   ],
   "source": [
    "print(p)"
   ]
  },
  {
   "cell_type": "code",
   "execution_count": 12,
   "id": "8d7d7125",
   "metadata": {},
   "outputs": [],
   "source": [
    "p.append(100)"
   ]
  },
  {
   "cell_type": "code",
   "execution_count": 13,
   "id": "7299c88a",
   "metadata": {},
   "outputs": [
    {
     "data": {
      "text/plain": [
       "[12, 34, 3333, 'pyspark', 500, 45, 65, 100]"
      ]
     },
     "execution_count": 13,
     "metadata": {},
     "output_type": "execute_result"
    }
   ],
   "source": [
    "p"
   ]
  },
  {
   "cell_type": "code",
   "execution_count": 15,
   "id": "6111da56",
   "metadata": {},
   "outputs": [],
   "source": [
    "p.append(\"DURGA\")"
   ]
  },
  {
   "cell_type": "code",
   "execution_count": 16,
   "id": "aa882e24",
   "metadata": {},
   "outputs": [
    {
     "data": {
      "text/plain": [
       "[12, 34, 3333, 'pyspark', 500, 45, 65, 100, 'DURGA']"
      ]
     },
     "execution_count": 16,
     "metadata": {},
     "output_type": "execute_result"
    }
   ],
   "source": [
    "p"
   ]
  },
  {
   "cell_type": "code",
   "execution_count": 17,
   "id": "948312a3",
   "metadata": {},
   "outputs": [],
   "source": [
    "p.extend({12,12,23,23,34})"
   ]
  },
  {
   "cell_type": "code",
   "execution_count": 18,
   "id": "bcaa873f",
   "metadata": {},
   "outputs": [
    {
     "data": {
      "text/plain": [
       "[12, 34, 3333, 'pyspark', 500, 45, 65, 100, 'DURGA', 34, 12, 23]"
      ]
     },
     "execution_count": 18,
     "metadata": {},
     "output_type": "execute_result"
    }
   ],
   "source": [
    "p"
   ]
  },
  {
   "cell_type": "code",
   "execution_count": 19,
   "id": "e2302db3",
   "metadata": {},
   "outputs": [],
   "source": [
    "p.extend(('a','b'))"
   ]
  },
  {
   "cell_type": "code",
   "execution_count": 20,
   "id": "cc287981",
   "metadata": {},
   "outputs": [
    {
     "data": {
      "text/plain": [
       "[12, 34, 3333, 'pyspark', 500, 45, 65, 100, 'DURGA', 34, 12, 23, 'a', 'b']"
      ]
     },
     "execution_count": 20,
     "metadata": {},
     "output_type": "execute_result"
    }
   ],
   "source": [
    "p"
   ]
  },
  {
   "cell_type": "code",
   "execution_count": 21,
   "id": "ceecfdf9",
   "metadata": {},
   "outputs": [],
   "source": [
    "p.extend(('z','x','y'))"
   ]
  },
  {
   "cell_type": "code",
   "execution_count": 22,
   "id": "40b6ec32",
   "metadata": {},
   "outputs": [
    {
     "data": {
      "text/plain": [
       "[12,\n",
       " 34,\n",
       " 3333,\n",
       " 'pyspark',\n",
       " 500,\n",
       " 45,\n",
       " 65,\n",
       " 100,\n",
       " 'DURGA',\n",
       " 34,\n",
       " 12,\n",
       " 23,\n",
       " 'a',\n",
       " 'b',\n",
       " 'z',\n",
       " 'x',\n",
       " 'y']"
      ]
     },
     "execution_count": 22,
     "metadata": {},
     "output_type": "execute_result"
    }
   ],
   "source": [
    "p"
   ]
  },
  {
   "cell_type": "code",
   "execution_count": 26,
   "id": "e094689e",
   "metadata": {},
   "outputs": [],
   "source": [
    "p.remove('z')"
   ]
  },
  {
   "cell_type": "code",
   "execution_count": 27,
   "id": "92f865fb",
   "metadata": {},
   "outputs": [
    {
     "data": {
      "text/plain": [
       "[12, 34, 3333, 'pyspark', 500, 45, 65, 100, 'DURGA', 34, 12, 23, 'a', 'b']"
      ]
     },
     "execution_count": 27,
     "metadata": {},
     "output_type": "execute_result"
    }
   ],
   "source": [
    "p"
   ]
  },
  {
   "cell_type": "code",
   "execution_count": 28,
   "id": "1d7c40aa",
   "metadata": {},
   "outputs": [
    {
     "data": {
      "text/plain": [
       "2"
      ]
     },
     "execution_count": 28,
     "metadata": {},
     "output_type": "execute_result"
    }
   ],
   "source": [
    "p.index(3333)"
   ]
  },
  {
   "cell_type": "code",
   "execution_count": 30,
   "id": "8835a695",
   "metadata": {},
   "outputs": [],
   "source": [
    "p[1]=100"
   ]
  },
  {
   "cell_type": "code",
   "execution_count": 32,
   "id": "6d650096",
   "metadata": {},
   "outputs": [],
   "source": [
    "p[3]=\"ML\""
   ]
  },
  {
   "cell_type": "code",
   "execution_count": 37,
   "id": "726ea6c5",
   "metadata": {},
   "outputs": [],
   "source": [
    "p[-3]='kjhgasd'"
   ]
  },
  {
   "cell_type": "code",
   "execution_count": 38,
   "id": "de16fe0b",
   "metadata": {},
   "outputs": [
    {
     "data": {
      "text/plain": [
       "[12, 100, 3333, 111111, 500, 45, 65, 100, 'DURGA', 34, 12, 'kjhgasd', 'a', 'b']"
      ]
     },
     "execution_count": 38,
     "metadata": {},
     "output_type": "execute_result"
    }
   ],
   "source": [
    "p"
   ]
  },
  {
   "cell_type": "code",
   "execution_count": 41,
   "id": "d6be5d93",
   "metadata": {},
   "outputs": [
    {
     "data": {
      "text/plain": [
       "'kjhgasd'"
      ]
     },
     "execution_count": 41,
     "metadata": {},
     "output_type": "execute_result"
    }
   ],
   "source": [
    "p.pop(1)"
   ]
  },
  {
   "cell_type": "code",
   "execution_count": 42,
   "id": "6b981e94",
   "metadata": {},
   "outputs": [
    {
     "data": {
      "text/plain": [
       "[12, 100, 3333, 111111, 500, 45, 65, 100, 'DURGA', 34, 12]"
      ]
     },
     "execution_count": 42,
     "metadata": {},
     "output_type": "execute_result"
    }
   ],
   "source": [
    "p"
   ]
  },
  {
   "cell_type": "code",
   "execution_count": 47,
   "id": "6d81be17",
   "metadata": {},
   "outputs": [
    {
     "data": {
      "text/plain": [
       "34"
      ]
     },
     "execution_count": 47,
     "metadata": {},
     "output_type": "execute_result"
    }
   ],
   "source": [
    "p.pop(-1)"
   ]
  },
  {
   "cell_type": "code",
   "execution_count": 48,
   "id": "f21d5123",
   "metadata": {},
   "outputs": [
    {
     "data": {
      "text/plain": [
       "[12, 3333, 111111, 500, 45, 65, 100, 'DURGA']"
      ]
     },
     "execution_count": 48,
     "metadata": {},
     "output_type": "execute_result"
    }
   ],
   "source": [
    "p"
   ]
  },
  {
   "cell_type": "code",
   "execution_count": 50,
   "id": "84012d29",
   "metadata": {},
   "outputs": [],
   "source": [
    "p1=p.copy()"
   ]
  },
  {
   "cell_type": "code",
   "execution_count": 51,
   "id": "2c9ef094",
   "metadata": {},
   "outputs": [
    {
     "data": {
      "text/plain": [
       "[12, 3333, 111111, 500, 45, 65, 100, 'DURGA']"
      ]
     },
     "execution_count": 51,
     "metadata": {},
     "output_type": "execute_result"
    }
   ],
   "source": [
    "p1"
   ]
  },
  {
   "cell_type": "code",
   "execution_count": 52,
   "id": "e3905910",
   "metadata": {},
   "outputs": [
    {
     "data": {
      "text/plain": [
       "[12, 3333, 111111, 500, 45, 65, 100, 'DURGA']"
      ]
     },
     "execution_count": 52,
     "metadata": {},
     "output_type": "execute_result"
    }
   ],
   "source": [
    "p"
   ]
  },
  {
   "cell_type": "code",
   "execution_count": 56,
   "id": "4c4a748c",
   "metadata": {},
   "outputs": [],
   "source": [
    "p.extend([1,1,1,1,1,11,12,12,12,12])"
   ]
  },
  {
   "cell_type": "code",
   "execution_count": 60,
   "id": "db06ba27",
   "metadata": {},
   "outputs": [
    {
     "data": {
      "text/plain": [
       "0"
      ]
     },
     "execution_count": 60,
     "metadata": {},
     "output_type": "execute_result"
    }
   ],
   "source": [
    "p.count(-1)"
   ]
  },
  {
   "cell_type": "code",
   "execution_count": 62,
   "id": "191332b1",
   "metadata": {},
   "outputs": [],
   "source": [
    "p.reverse()"
   ]
  },
  {
   "cell_type": "code",
   "execution_count": 63,
   "id": "f869c65d",
   "metadata": {},
   "outputs": [
    {
     "data": {
      "text/plain": [
       "[12,\n",
       " 12,\n",
       " 12,\n",
       " 12,\n",
       " 11,\n",
       " 1,\n",
       " 1,\n",
       " 1,\n",
       " 1,\n",
       " 1,\n",
       " 'DURGA',\n",
       " 111111,\n",
       " 3333,\n",
       " 500,\n",
       " 100,\n",
       " 65,\n",
       " 45,\n",
       " 12]"
      ]
     },
     "execution_count": 63,
     "metadata": {},
     "output_type": "execute_result"
    }
   ],
   "source": [
    "p"
   ]
  },
  {
   "cell_type": "code",
   "execution_count": 64,
   "id": "c42f12b1",
   "metadata": {},
   "outputs": [
    {
     "data": {
      "text/plain": [
       "[12,\n",
       " 12,\n",
       " 12,\n",
       " 12,\n",
       " 11,\n",
       " 1,\n",
       " 1,\n",
       " 1,\n",
       " 1,\n",
       " 1,\n",
       " 'DURGA',\n",
       " 111111,\n",
       " 3333,\n",
       " 500,\n",
       " 100,\n",
       " 65,\n",
       " 45,\n",
       " 12]"
      ]
     },
     "execution_count": 64,
     "metadata": {},
     "output_type": "execute_result"
    }
   ],
   "source": [
    "p"
   ]
  },
  {
   "cell_type": "code",
   "execution_count": 65,
   "id": "ca1ad335",
   "metadata": {},
   "outputs": [
    {
     "data": {
      "text/plain": [
       "12"
      ]
     },
     "execution_count": 65,
     "metadata": {},
     "output_type": "execute_result"
    }
   ],
   "source": [
    "p.pop()"
   ]
  },
  {
   "cell_type": "code",
   "execution_count": 71,
   "id": "531df054",
   "metadata": {},
   "outputs": [],
   "source": [
    "p.remove(1)"
   ]
  },
  {
   "cell_type": "code",
   "execution_count": 72,
   "id": "2633aefb",
   "metadata": {},
   "outputs": [
    {
     "data": {
      "text/plain": [
       "[12, 11, 1, 1, 1, 'DURGA', 111111, 3333, 500, 100, 65, 45]"
      ]
     },
     "execution_count": 72,
     "metadata": {},
     "output_type": "execute_result"
    }
   ],
   "source": [
    "p"
   ]
  },
  {
   "cell_type": "code",
   "execution_count": 73,
   "id": "af33a6cd",
   "metadata": {},
   "outputs": [
    {
     "data": {
      "text/plain": [
       "11"
      ]
     },
     "execution_count": 73,
     "metadata": {},
     "output_type": "execute_result"
    }
   ],
   "source": [
    "p.pop(1)"
   ]
  },
  {
   "cell_type": "code",
   "execution_count": 74,
   "id": "df53d8e0",
   "metadata": {},
   "outputs": [
    {
     "data": {
      "text/plain": [
       "[12, 1, 1, 1, 'DURGA', 111111, 3333, 500, 100, 65, 45]"
      ]
     },
     "execution_count": 74,
     "metadata": {},
     "output_type": "execute_result"
    }
   ],
   "source": [
    "p"
   ]
  },
  {
   "cell_type": "code",
   "execution_count": 75,
   "id": "69fef24a",
   "metadata": {},
   "outputs": [],
   "source": [
    "p=[1,10,34,56,21,43,56]"
   ]
  },
  {
   "cell_type": "code",
   "execution_count": 76,
   "id": "308aad22",
   "metadata": {},
   "outputs": [],
   "source": [
    "p2=p.copy()"
   ]
  },
  {
   "cell_type": "code",
   "execution_count": 84,
   "id": "5f99527f",
   "metadata": {},
   "outputs": [
    {
     "data": {
      "text/plain": [
       "[1, 10, 34, 56, 21, 43, 56]"
      ]
     },
     "execution_count": 84,
     "metadata": {},
     "output_type": "execute_result"
    }
   ],
   "source": [
    "p"
   ]
  },
  {
   "cell_type": "code",
   "execution_count": 78,
   "id": "0f022f5f",
   "metadata": {},
   "outputs": [
    {
     "data": {
      "text/plain": [
       "[1, 10, 34, 56, 21, 43, 56]"
      ]
     },
     "execution_count": 78,
     "metadata": {},
     "output_type": "execute_result"
    }
   ],
   "source": [
    "p2"
   ]
  },
  {
   "cell_type": "code",
   "execution_count": 79,
   "id": "02463c14",
   "metadata": {},
   "outputs": [],
   "source": [
    "p2.reverse()"
   ]
  },
  {
   "cell_type": "code",
   "execution_count": 80,
   "id": "cd9944a8",
   "metadata": {},
   "outputs": [
    {
     "data": {
      "text/plain": [
       "[56, 43, 21, 56, 34, 10, 1]"
      ]
     },
     "execution_count": 80,
     "metadata": {},
     "output_type": "execute_result"
    }
   ],
   "source": [
    "p2\n"
   ]
  },
  {
   "cell_type": "code",
   "execution_count": 81,
   "id": "930dce06",
   "metadata": {},
   "outputs": [
    {
     "data": {
      "text/plain": [
       "[1, 10, 34, 56, 21, 43, 56]"
      ]
     },
     "execution_count": 81,
     "metadata": {},
     "output_type": "execute_result"
    }
   ],
   "source": [
    "p"
   ]
  },
  {
   "cell_type": "code",
   "execution_count": 86,
   "id": "927060c9",
   "metadata": {},
   "outputs": [],
   "source": [
    "p.sort()"
   ]
  },
  {
   "cell_type": "code",
   "execution_count": 87,
   "id": "f95f5a81",
   "metadata": {},
   "outputs": [
    {
     "data": {
      "text/plain": [
       "[1, 10, 21, 34, 43, 56, 56]"
      ]
     },
     "execution_count": 87,
     "metadata": {},
     "output_type": "execute_result"
    }
   ],
   "source": [
    "p"
   ]
  },
  {
   "cell_type": "code",
   "execution_count": 88,
   "id": "f474c73d",
   "metadata": {},
   "outputs": [],
   "source": [
    "p.sort(reverse=True)"
   ]
  },
  {
   "cell_type": "code",
   "execution_count": 89,
   "id": "53e1df2f",
   "metadata": {},
   "outputs": [
    {
     "data": {
      "text/plain": [
       "[56, 56, 43, 34, 21, 10, 1]"
      ]
     },
     "execution_count": 89,
     "metadata": {},
     "output_type": "execute_result"
    }
   ],
   "source": [
    "p"
   ]
  },
  {
   "cell_type": "code",
   "execution_count": 90,
   "id": "634527da",
   "metadata": {},
   "outputs": [],
   "source": [
    "temp=[1,10,34,56,21,43,56]"
   ]
  },
  {
   "cell_type": "code",
   "execution_count": 91,
   "id": "9a407de9",
   "metadata": {},
   "outputs": [
    {
     "data": {
      "text/plain": [
       "[1, 10, 34, 56, 21, 43, 56]"
      ]
     },
     "execution_count": 91,
     "metadata": {},
     "output_type": "execute_result"
    }
   ],
   "source": [
    "temp"
   ]
  },
  {
   "cell_type": "code",
   "execution_count": 92,
   "id": "c9ef5d31",
   "metadata": {},
   "outputs": [],
   "source": [
    "p.sort(reverse=True)"
   ]
  },
  {
   "cell_type": "code",
   "execution_count": 97,
   "id": "b8ab7107",
   "metadata": {},
   "outputs": [
    {
     "data": {
      "text/plain": [
       "[]"
      ]
     },
     "execution_count": 97,
     "metadata": {},
     "output_type": "execute_result"
    }
   ],
   "source": [
    "p"
   ]
  },
  {
   "cell_type": "code",
   "execution_count": 94,
   "id": "d9c8dfe0",
   "metadata": {},
   "outputs": [],
   "source": [
    "p.clear()"
   ]
  },
  {
   "cell_type": "code",
   "execution_count": 95,
   "id": "723cc60a",
   "metadata": {},
   "outputs": [
    {
     "data": {
      "text/plain": [
       "[]"
      ]
     },
     "execution_count": 95,
     "metadata": {},
     "output_type": "execute_result"
    }
   ],
   "source": [
    "p"
   ]
  },
  {
   "cell_type": "code",
   "execution_count": 96,
   "id": "64206172",
   "metadata": {},
   "outputs": [
    {
     "data": {
      "text/plain": [
       "list"
      ]
     },
     "execution_count": 96,
     "metadata": {},
     "output_type": "execute_result"
    }
   ],
   "source": [
    "type(p) "
   ]
  },
  {
   "cell_type": "code",
   "execution_count": 98,
   "id": "37bffcbe",
   "metadata": {},
   "outputs": [
    {
     "data": {
      "text/plain": [
       "[12, 45, 65, 100, 500, 3333, 111111, 'DURGA']"
      ]
     },
     "execution_count": 98,
     "metadata": {},
     "output_type": "execute_result"
    }
   ],
   "source": [
    " p1"
   ]
  },
  {
   "cell_type": "code",
   "execution_count": 99,
   "id": "77d333a5",
   "metadata": {},
   "outputs": [],
   "source": [
    "for index,element in enumerate(p):\n",
    "    if element in[12]:\n",
    "        print(index,\"---->\",element)\n",
    "    "
   ]
  },
  {
   "cell_type": "code",
   "execution_count": 102,
   "id": "3d00b89c",
   "metadata": {},
   "outputs": [
    {
     "data": {
      "text/plain": [
       "'d'"
      ]
     },
     "execution_count": 102,
     "metadata": {},
     "output_type": "execute_result"
    }
   ],
   "source": [
    "chr(100)"
   ]
  },
  {
   "cell_type": "code",
   "execution_count": 104,
   "id": "4b59ae36",
   "metadata": {},
   "outputs": [
    {
     "data": {
      "text/plain": [
       "100"
      ]
     },
     "execution_count": 104,
     "metadata": {},
     "output_type": "execute_result"
    }
   ],
   "source": [
    "ord('d')"
   ]
  },
  {
   "cell_type": "code",
   "execution_count": 105,
   "id": "4455a811",
   "metadata": {},
   "outputs": [
    {
     "data": {
      "text/plain": [
       "1555050752592"
      ]
     },
     "execution_count": 105,
     "metadata": {},
     "output_type": "execute_result"
    }
   ],
   "source": [
    "id(10)"
   ]
  },
  {
   "cell_type": "code",
   "execution_count": 106,
   "id": "154a8fe4",
   "metadata": {},
   "outputs": [],
   "source": [
    "a=10\n"
   ]
  },
  {
   "cell_type": "code",
   "execution_count": 107,
   "id": "e4af1670",
   "metadata": {},
   "outputs": [
    {
     "data": {
      "text/plain": [
       "1555050752592"
      ]
     },
     "execution_count": 107,
     "metadata": {},
     "output_type": "execute_result"
    }
   ],
   "source": [
    "id(a)"
   ]
  },
  {
   "cell_type": "code",
   "execution_count": 108,
   "id": "69cbd58c",
   "metadata": {},
   "outputs": [],
   "source": [
    "a =[10,20,30,1,2,[12,'pyspark','ML',['a','s',[100,200,300,['DS','python',['java']]]]]]"
   ]
  },
  {
   "cell_type": "code",
   "execution_count": 118,
   "id": "d6cbf56a",
   "metadata": {},
   "outputs": [
    {
     "data": {
      "text/plain": [
       "'j'"
      ]
     },
     "execution_count": 118,
     "metadata": {},
     "output_type": "execute_result"
    }
   ],
   "source": [
    "a[5][3][2][3][2][0][0]"
   ]
  },
  {
   "cell_type": "code",
   "execution_count": 126,
   "id": "72d78b24",
   "metadata": {},
   "outputs": [],
   "source": [
    "p=(12,12,23,34,'ML','DS')"
   ]
  },
  {
   "cell_type": "code",
   "execution_count": 132,
   "id": "58fb3d80",
   "metadata": {},
   "outputs": [
    {
     "data": {
      "text/plain": [
       "2"
      ]
     },
     "execution_count": 132,
     "metadata": {},
     "output_type": "execute_result"
    }
   ],
   "source": [
    "p.count(12)"
   ]
  },
  {
   "cell_type": "code",
   "execution_count": 133,
   "id": "ebb12d79",
   "metadata": {},
   "outputs": [
    {
     "data": {
      "text/plain": [
       "2"
      ]
     },
     "execution_count": 133,
     "metadata": {},
     "output_type": "execute_result"
    }
   ],
   "source": [
    "p.index(23)"
   ]
  },
  {
   "cell_type": "code",
   "execution_count": 134,
   "id": "2f159798",
   "metadata": {},
   "outputs": [
    {
     "data": {
      "text/plain": [
       "(12, 12, 23, 34, 'ML', 'DS')"
      ]
     },
     "execution_count": 134,
     "metadata": {},
     "output_type": "execute_result"
    }
   ],
   "source": [
    "p"
   ]
  },
  {
   "cell_type": "code",
   "execution_count": 135,
   "id": "16dc168c",
   "metadata": {},
   "outputs": [
    {
     "ename": "AttributeError",
     "evalue": "'tuple' object has no attribute 'copy'",
     "output_type": "error",
     "traceback": [
      "\u001b[1;31m---------------------------------------------------------------------------\u001b[0m",
      "\u001b[1;31mAttributeError\u001b[0m                            Traceback (most recent call last)",
      "\u001b[1;32m~\\AppData\\Local\\Temp\\ipykernel_1900\\466897165.py\u001b[0m in \u001b[0;36m<module>\u001b[1;34m\u001b[0m\n\u001b[1;32m----> 1\u001b[1;33m \u001b[0mp1\u001b[0m\u001b[1;33m=\u001b[0m\u001b[0mp\u001b[0m\u001b[1;33m.\u001b[0m\u001b[0mcopy\u001b[0m\u001b[1;33m(\u001b[0m\u001b[1;33m)\u001b[0m\u001b[1;33m\u001b[0m\u001b[1;33m\u001b[0m\u001b[0m\n\u001b[0m",
      "\u001b[1;31mAttributeError\u001b[0m: 'tuple' object has no attribute 'copy'"
     ]
    }
   ],
   "source": [
    "p1=p.copy()"
   ]
  },
  {
   "cell_type": "code",
   "execution_count": 139,
   "id": "c13c581c",
   "metadata": {},
   "outputs": [
    {
     "data": {
      "text/plain": [
       "5"
      ]
     },
     "execution_count": 139,
     "metadata": {},
     "output_type": "execute_result"
    }
   ],
   "source": [
    "p.index('DS')"
   ]
  },
  {
   "cell_type": "code",
   "execution_count": 140,
   "id": "cf0e3c71",
   "metadata": {},
   "outputs": [
    {
     "data": {
      "text/plain": [
       "6"
      ]
     },
     "execution_count": 140,
     "metadata": {},
     "output_type": "execute_result"
    }
   ],
   "source": [
    "len(p)"
   ]
  },
  {
   "cell_type": "code",
   "execution_count": 141,
   "id": "5f80d016",
   "metadata": {},
   "outputs": [],
   "source": [
    "p=[1,2,3,(10,20,30),45]"
   ]
  },
  {
   "cell_type": "code",
   "execution_count": 149,
   "id": "d9eddef9",
   "metadata": {},
   "outputs": [],
   "source": [
    "list(p[3])[1]=100"
   ]
  }
 ],
 "metadata": {
  "kernelspec": {
   "display_name": "Python 3 (ipykernel)",
   "language": "python",
   "name": "python3"
  },
  "language_info": {
   "codemirror_mode": {
    "name": "ipython",
    "version": 3
   },
   "file_extension": ".py",
   "mimetype": "text/x-python",
   "name": "python",
   "nbconvert_exporter": "python",
   "pygments_lexer": "ipython3",
   "version": "3.9.13"
  }
 },
 "nbformat": 4,
 "nbformat_minor": 5
}
